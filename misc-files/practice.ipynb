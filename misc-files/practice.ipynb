{
 "cells": [
  {
   "cell_type": "code",
   "execution_count": 3,
   "outputs": [
    {
     "name": "stdout",
     "output_type": "stream",
     "text": [
      "Requirement already satisfied: selenium in /Users/lukeperrin/opt/anaconda3/lib/python3.9/site-packages (4.1.3)\r\n",
      "Requirement already satisfied: urllib3[secure,socks]~=1.26 in /Users/lukeperrin/opt/anaconda3/lib/python3.9/site-packages (from selenium) (1.26.7)\r\n",
      "Requirement already satisfied: trio~=0.17 in /Users/lukeperrin/opt/anaconda3/lib/python3.9/site-packages (from selenium) (0.20.0)\r\n",
      "Requirement already satisfied: trio-websocket~=0.9 in /Users/lukeperrin/opt/anaconda3/lib/python3.9/site-packages (from selenium) (0.9.2)\r\n",
      "Requirement already satisfied: sniffio in /Users/lukeperrin/opt/anaconda3/lib/python3.9/site-packages (from trio~=0.17->selenium) (1.2.0)\r\n",
      "Requirement already satisfied: outcome in /Users/lukeperrin/opt/anaconda3/lib/python3.9/site-packages (from trio~=0.17->selenium) (1.1.0)\r\n",
      "Requirement already satisfied: idna in /Users/lukeperrin/opt/anaconda3/lib/python3.9/site-packages (from trio~=0.17->selenium) (3.2)\r\n",
      "Requirement already satisfied: async-generator>=1.9 in /Users/lukeperrin/opt/anaconda3/lib/python3.9/site-packages (from trio~=0.17->selenium) (1.10)\r\n",
      "Requirement already satisfied: sortedcontainers in /Users/lukeperrin/opt/anaconda3/lib/python3.9/site-packages (from trio~=0.17->selenium) (2.4.0)\r\n",
      "Requirement already satisfied: attrs>=19.2.0 in /Users/lukeperrin/opt/anaconda3/lib/python3.9/site-packages (from trio~=0.17->selenium) (21.2.0)\r\n",
      "Requirement already satisfied: wsproto>=0.14 in /Users/lukeperrin/opt/anaconda3/lib/python3.9/site-packages (from trio-websocket~=0.9->selenium) (1.1.0)\r\n",
      "Requirement already satisfied: PySocks!=1.5.7,<2.0,>=1.5.6 in /Users/lukeperrin/opt/anaconda3/lib/python3.9/site-packages (from urllib3[secure,socks]~=1.26->selenium) (1.7.1)\r\n",
      "Requirement already satisfied: pyOpenSSL>=0.14 in /Users/lukeperrin/opt/anaconda3/lib/python3.9/site-packages (from urllib3[secure,socks]~=1.26->selenium) (21.0.0)\r\n",
      "Requirement already satisfied: cryptography>=1.3.4 in /Users/lukeperrin/opt/anaconda3/lib/python3.9/site-packages (from urllib3[secure,socks]~=1.26->selenium) (3.4.8)\r\n",
      "Requirement already satisfied: certifi in /Users/lukeperrin/opt/anaconda3/lib/python3.9/site-packages (from urllib3[secure,socks]~=1.26->selenium) (2021.10.8)\r\n",
      "Requirement already satisfied: cffi>=1.12 in /Users/lukeperrin/opt/anaconda3/lib/python3.9/site-packages (from cryptography>=1.3.4->urllib3[secure,socks]~=1.26->selenium) (1.14.6)\r\n",
      "Requirement already satisfied: pycparser in /Users/lukeperrin/opt/anaconda3/lib/python3.9/site-packages (from cffi>=1.12->cryptography>=1.3.4->urllib3[secure,socks]~=1.26->selenium) (2.20)\r\n",
      "Requirement already satisfied: six>=1.5.2 in /Users/lukeperrin/opt/anaconda3/lib/python3.9/site-packages (from pyOpenSSL>=0.14->urllib3[secure,socks]~=1.26->selenium) (1.16.0)\r\n",
      "Requirement already satisfied: h11<1,>=0.9.0 in /Users/lukeperrin/opt/anaconda3/lib/python3.9/site-packages (from wsproto>=0.14->trio-websocket~=0.9->selenium) (0.13.0)\r\n",
      "Note: you may need to restart the kernel to use updated packages.\n",
      "Requirement already satisfied: splinter in /Users/lukeperrin/opt/anaconda3/lib/python3.9/site-packages (0.17.0)\r\n",
      "Note: you may need to restart the kernel to use updated packages.\n",
      "Collecting webdriver-manager\r\n",
      "  Using cached webdriver_manager-3.5.4-py2.py3-none-any.whl (18 kB)\r\n",
      "Requirement already satisfied: requests in /Users/lukeperrin/opt/anaconda3/lib/python3.9/site-packages (from webdriver-manager) (2.26.0)\r\n",
      "Requirement already satisfied: certifi>=2017.4.17 in /Users/lukeperrin/opt/anaconda3/lib/python3.9/site-packages (from requests->webdriver-manager) (2021.10.8)\r\n",
      "Requirement already satisfied: urllib3<1.27,>=1.21.1 in /Users/lukeperrin/opt/anaconda3/lib/python3.9/site-packages (from requests->webdriver-manager) (1.26.7)\r\n",
      "Requirement already satisfied: charset-normalizer~=2.0.0 in /Users/lukeperrin/opt/anaconda3/lib/python3.9/site-packages (from requests->webdriver-manager) (2.0.4)\r\n",
      "Requirement already satisfied: idna<4,>=2.5 in /Users/lukeperrin/opt/anaconda3/lib/python3.9/site-packages (from requests->webdriver-manager) (3.2)\r\n",
      "Installing collected packages: webdriver-manager\r\n",
      "Successfully installed webdriver-manager-3.5.4\r\n",
      "Note: you may need to restart the kernel to use updated packages.\n"
     ]
    }
   ],
   "source": [
    "%pip install selenium\n",
    "%pip install splinter\n",
    "%pip install webdriver-manager"
   ],
   "metadata": {
    "collapsed": false,
    "pycharm": {
     "name": "#%%\n"
    }
   }
  },
  {
   "cell_type": "code",
   "execution_count": 4,
   "metadata": {
    "collapsed": true
   },
   "outputs": [],
   "source": [
    "from splinter import Browser\n",
    "from bs4 import BeautifulSoup as soup\n",
    "from webdriver_manager.chrome import ChromeDriverManager"
   ]
  },
  {
   "cell_type": "code",
   "execution_count": 5,
   "outputs": [
    {
     "name": "stderr",
     "output_type": "stream",
     "text": [
      "\n",
      "\n",
      "====== WebDriver manager ======\n",
      "Current google-chrome version is 100.0.4896\n",
      "Get LATEST chromedriver version for 100.0.4896 google-chrome\n",
      "There is no [mac64] chromedriver for browser 100.0.4896 in cache\n",
      "Trying to download new driver from https://chromedriver.storage.googleapis.com/100.0.4896.60/chromedriver_mac64.zip\n",
      "Driver has been saved in cache [/Users/lukeperrin/.wdm/drivers/chromedriver/mac64/100.0.4896.60]\n"
     ]
    }
   ],
   "source": [
    "# Set up Splinter\n",
    "executable_path = {'executable_path': ChromeDriverManager().install()}\n",
    "browser = Browser('chrome', **executable_path, headless=False)"
   ],
   "metadata": {
    "collapsed": false,
    "pycharm": {
     "name": "#%%\n"
    }
   }
  },
  {
   "cell_type": "code",
   "execution_count": 6,
   "outputs": [
    {
     "data": {
      "text/plain": "'Top Ten tags'"
     },
     "execution_count": 6,
     "metadata": {},
     "output_type": "execute_result"
    }
   ],
   "source": [
    "# Visit the Quotes to Scrape site\n",
    "url = 'http://quotes.toscrape.com/'\n",
    "browser.visit(url)\n",
    "# Parse the HTML\n",
    "html = browser.html\n",
    "html_soup = soup(html, 'html.parser')\n",
    "# Scrape the Title\n",
    "title = html_soup.find('h2').text\n",
    "title"
   ],
   "metadata": {
    "collapsed": false,
    "pycharm": {
     "name": "#%%\n"
    }
   }
  },
  {
   "cell_type": "code",
   "execution_count": 7,
   "outputs": [
    {
     "name": "stdout",
     "output_type": "stream",
     "text": [
      "love\n",
      "inspirational\n",
      "life\n",
      "humor\n",
      "books\n",
      "reading\n",
      "friendship\n",
      "friends\n",
      "truth\n",
      "simile\n"
     ]
    }
   ],
   "source": [
    "# Scrape the top ten tags\n",
    "tag_box = html_soup.find('div', class_='tags-box')\n",
    "# tag_box\n",
    "tags = tag_box.find_all('a', class_='tag')\n",
    "\n",
    "for tag in tags:\n",
    "    word = tag.text\n",
    "    print(word)"
   ],
   "metadata": {
    "collapsed": false,
    "pycharm": {
     "name": "#%%\n"
    }
   }
  },
  {
   "cell_type": "markdown",
   "source": [],
   "metadata": {
    "collapsed": false
   }
  },
  {
   "cell_type": "code",
   "execution_count": null,
   "outputs": [],
   "source": [
    "url = 'http://quotes.toscrape.com/'\n",
    "browser.visit(url)\n",
    "\n",
    "for x in range(1, 6):\n",
    "    html = browser.html\n",
    "    quote_soup = soup(html, 'html.parser')\n",
    "    quotes = quote_soup.find_all('span', class_='text')\n",
    "    for quote in quotes:\n",
    "        print('page:', x, '----------')\n",
    "        print(quote.text)\n",
    "    browser.links.find_by_partial_text('Next').click()"
   ],
   "metadata": {
    "collapsed": false,
    "pycharm": {
     "name": "#%%\n"
    }
   }
  }
 ],
 "metadata": {
  "kernelspec": {
   "name": "pythondata",
   "language": "python",
   "display_name": "PythonData"
  },
  "language_info": {
   "codemirror_mode": {
    "name": "ipython",
    "version": 2
   },
   "file_extension": ".py",
   "mimetype": "text/x-python",
   "name": "python",
   "nbconvert_exporter": "python",
   "pygments_lexer": "ipython2",
   "version": "2.7.6"
  }
 },
 "nbformat": 4,
 "nbformat_minor": 0
}