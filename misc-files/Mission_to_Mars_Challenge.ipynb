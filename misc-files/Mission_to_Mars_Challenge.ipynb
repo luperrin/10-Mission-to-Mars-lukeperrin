{
 "cells": [
  {
   "cell_type": "code",
   "execution_count": 1,
   "metadata": {
    "pycharm": {
     "name": "#%%\n"
    }
   },
   "outputs": [
    {
     "name": "stdout",
     "output_type": "stream",
     "text": [
      "Requirement already satisfied: selenium in /Users/lukeperrin/opt/anaconda3/lib/python3.9/site-packages (4.1.3)\r\n",
      "Requirement already satisfied: urllib3[secure,socks]~=1.26 in /Users/lukeperrin/opt/anaconda3/lib/python3.9/site-packages (from selenium) (1.26.7)\r\n",
      "Requirement already satisfied: trio~=0.17 in /Users/lukeperrin/opt/anaconda3/lib/python3.9/site-packages (from selenium) (0.20.0)\r\n",
      "Requirement already satisfied: trio-websocket~=0.9 in /Users/lukeperrin/opt/anaconda3/lib/python3.9/site-packages (from selenium) (0.9.2)\r\n",
      "Requirement already satisfied: attrs>=19.2.0 in /Users/lukeperrin/opt/anaconda3/lib/python3.9/site-packages (from trio~=0.17->selenium) (21.2.0)\r\n",
      "Requirement already satisfied: async-generator>=1.9 in /Users/lukeperrin/opt/anaconda3/lib/python3.9/site-packages (from trio~=0.17->selenium) (1.10)\r\n",
      "Requirement already satisfied: idna in /Users/lukeperrin/opt/anaconda3/lib/python3.9/site-packages (from trio~=0.17->selenium) (3.2)\r\n",
      "Requirement already satisfied: sortedcontainers in /Users/lukeperrin/opt/anaconda3/lib/python3.9/site-packages (from trio~=0.17->selenium) (2.4.0)\r\n",
      "Requirement already satisfied: outcome in /Users/lukeperrin/opt/anaconda3/lib/python3.9/site-packages (from trio~=0.17->selenium) (1.1.0)\r\n",
      "Requirement already satisfied: sniffio in /Users/lukeperrin/opt/anaconda3/lib/python3.9/site-packages (from trio~=0.17->selenium) (1.2.0)\r\n",
      "Requirement already satisfied: wsproto>=0.14 in /Users/lukeperrin/opt/anaconda3/lib/python3.9/site-packages (from trio-websocket~=0.9->selenium) (1.1.0)\r\n",
      "Requirement already satisfied: pyOpenSSL>=0.14 in /Users/lukeperrin/opt/anaconda3/lib/python3.9/site-packages (from urllib3[secure,socks]~=1.26->selenium) (21.0.0)\r\n",
      "Requirement already satisfied: cryptography>=1.3.4 in /Users/lukeperrin/opt/anaconda3/lib/python3.9/site-packages (from urllib3[secure,socks]~=1.26->selenium) (3.4.8)\r\n",
      "Requirement already satisfied: certifi in /Users/lukeperrin/opt/anaconda3/lib/python3.9/site-packages (from urllib3[secure,socks]~=1.26->selenium) (2021.10.8)\r\n",
      "Requirement already satisfied: PySocks!=1.5.7,<2.0,>=1.5.6 in /Users/lukeperrin/opt/anaconda3/lib/python3.9/site-packages (from urllib3[secure,socks]~=1.26->selenium) (1.7.1)\r\n",
      "Requirement already satisfied: cffi>=1.12 in /Users/lukeperrin/opt/anaconda3/lib/python3.9/site-packages (from cryptography>=1.3.4->urllib3[secure,socks]~=1.26->selenium) (1.14.6)\r\n",
      "Requirement already satisfied: pycparser in /Users/lukeperrin/opt/anaconda3/lib/python3.9/site-packages (from cffi>=1.12->cryptography>=1.3.4->urllib3[secure,socks]~=1.26->selenium) (2.20)\r\n",
      "Requirement already satisfied: six>=1.5.2 in /Users/lukeperrin/opt/anaconda3/lib/python3.9/site-packages (from pyOpenSSL>=0.14->urllib3[secure,socks]~=1.26->selenium) (1.16.0)\r\n",
      "Requirement already satisfied: h11<1,>=0.9.0 in /Users/lukeperrin/opt/anaconda3/lib/python3.9/site-packages (from wsproto>=0.14->trio-websocket~=0.9->selenium) (0.13.0)\r\n",
      "Note: you may need to restart the kernel to use updated packages.\n",
      "Requirement already satisfied: splinter in /Users/lukeperrin/opt/anaconda3/lib/python3.9/site-packages (0.17.0)\r\n",
      "Note: you may need to restart the kernel to use updated packages.\n",
      "Requirement already satisfied: webdriver-manager in /Users/lukeperrin/opt/anaconda3/lib/python3.9/site-packages (3.5.4)\r\n",
      "Requirement already satisfied: requests in /Users/lukeperrin/opt/anaconda3/lib/python3.9/site-packages (from webdriver-manager) (2.26.0)\r\n",
      "Requirement already satisfied: certifi>=2017.4.17 in /Users/lukeperrin/opt/anaconda3/lib/python3.9/site-packages (from requests->webdriver-manager) (2021.10.8)\r\n",
      "Requirement already satisfied: idna<4,>=2.5 in /Users/lukeperrin/opt/anaconda3/lib/python3.9/site-packages (from requests->webdriver-manager) (3.2)\r\n",
      "Requirement already satisfied: charset-normalizer~=2.0.0 in /Users/lukeperrin/opt/anaconda3/lib/python3.9/site-packages (from requests->webdriver-manager) (2.0.4)\r\n",
      "Requirement already satisfied: urllib3<1.27,>=1.21.1 in /Users/lukeperrin/opt/anaconda3/lib/python3.9/site-packages (from requests->webdriver-manager) (1.26.7)\r\n",
      "Note: you may need to restart the kernel to use updated packages.\n"
     ]
    }
   ],
   "source": [
    "# %pip install selenium\n",
    "# %pip install splinter\n",
    "# %pip install webdriver-manager"
   ]
  },
  {
   "cell_type": "code",
   "execution_count": 12,
   "metadata": {
    "collapsed": true
   },
   "outputs": [],
   "source": [
    "# Import Splinter and BeautifulSoup\n",
    "from splinter import Browser\n",
    "from bs4 import BeautifulSoup as soup\n",
    "from webdriver_manager.chrome import ChromeDriverManager\n",
    "import pandas as pd\n",
    "import re"
   ]
  },
  {
   "cell_type": "code",
   "execution_count": 4,
   "metadata": {
    "pycharm": {
     "name": "#%%\n"
    }
   },
   "outputs": [
    {
     "name": "stderr",
     "output_type": "stream",
     "text": [
      "\n",
      "\n",
      "====== WebDriver manager ======\n",
      "Current google-chrome version is 100.0.4896\n",
      "Get LATEST chromedriver version for 100.0.4896 google-chrome\n",
      "Driver [/Users/lukeperrin/.wdm/drivers/chromedriver/mac64/100.0.4896.60/chromedriver] found in cache\n"
     ]
    }
   ],
   "source": [
    "executable_path = {'executable_path': ChromeDriverManager().install()}\n",
    "browser = Browser('chrome', **executable_path, headless=False)"
   ]
  },
  {
   "cell_type": "code",
   "execution_count": 4,
   "metadata": {
    "pycharm": {
     "name": "#%%\n"
    }
   },
   "outputs": [
    {
     "data": {
      "text/plain": [
       "True"
      ]
     },
     "execution_count": 4,
     "metadata": {},
     "output_type": "execute_result"
    }
   ],
   "source": [
    "# Visit the mars nasa news site\n",
    "url = 'https://redplanetscience.com'\n",
    "browser.visit(url)\n",
    "# Optional delay for loading the page\n",
    "browser.is_element_present_by_css('div.list_text', wait_time=1)"
   ]
  },
  {
   "cell_type": "code",
   "execution_count": 6,
   "metadata": {
    "pycharm": {
     "name": "#%%\n"
    }
   },
   "outputs": [
    {
     "data": {
      "text/plain": [
       "<div class=\"content_title\">NASA Perseverance Mars Rover Scientists Train in the Nevada Desert</div>"
      ]
     },
     "execution_count": 6,
     "metadata": {},
     "output_type": "execute_result"
    }
   ],
   "source": [
    "html = browser.html\n",
    "news_soup = soup(html, 'html.parser')\n",
    "slide_elem = news_soup.select_one('div.list_text')\n",
    "slide_elem.find('div', class_='content_title')"
   ]
  },
  {
   "cell_type": "code",
   "execution_count": 7,
   "metadata": {
    "pycharm": {
     "name": "#%%\n"
    }
   },
   "outputs": [
    {
     "data": {
      "text/plain": [
       "'NASA Perseverance Mars Rover Scientists Train in the Nevada Desert'"
      ]
     },
     "execution_count": 7,
     "metadata": {},
     "output_type": "execute_result"
    }
   ],
   "source": [
    "# Use the parent element to find the first `a` tag and save it as `news_title`\n",
    "news_title = slide_elem.find('div', class_='content_title').get_text()\n",
    "news_title"
   ]
  },
  {
   "cell_type": "code",
   "execution_count": 8,
   "metadata": {
    "pycharm": {
     "name": "#%%\n"
    }
   },
   "outputs": [
    {
     "data": {
      "text/plain": [
       "\"Team members searched for signs of ancient microscopic life there, just as NASA's latest rover will on the Red Planet next year.\""
      ]
     },
     "execution_count": 8,
     "metadata": {},
     "output_type": "execute_result"
    }
   ],
   "source": [
    "# Use the parent element to find the paragraph text\n",
    "news_p = slide_elem.find('div', class_='article_teaser_body').get_text()\n",
    "news_p"
   ]
  },
  {
   "cell_type": "markdown",
   "metadata": {},
   "source": [
    "### Featured Images"
   ]
  },
  {
   "cell_type": "code",
   "execution_count": 9,
   "metadata": {
    "pycharm": {
     "name": "#%%\n"
    }
   },
   "outputs": [],
   "source": [
    "# Visit URL\n",
    "url = 'https://spaceimages-mars.com'\n",
    "browser.visit(url)"
   ]
  },
  {
   "cell_type": "code",
   "execution_count": 10,
   "metadata": {
    "pycharm": {
     "name": "#%%\n"
    }
   },
   "outputs": [],
   "source": [
    "# Find and click the full image button\n",
    "full_image_elem = browser.find_by_tag('button')[1]\n",
    "full_image_elem.click()"
   ]
  },
  {
   "cell_type": "code",
   "execution_count": 11,
   "metadata": {
    "pycharm": {
     "name": "#%%\n"
    }
   },
   "outputs": [],
   "source": [
    "# Parse the resulting html with soup\n",
    "html = browser.html\n",
    "img_soup = soup(html, 'html.parser')"
   ]
  },
  {
   "cell_type": "code",
   "execution_count": 12,
   "metadata": {
    "pycharm": {
     "name": "#%%\n"
    }
   },
   "outputs": [
    {
     "data": {
      "text/plain": [
       "'image/featured/mars3.jpg'"
      ]
     },
     "execution_count": 12,
     "metadata": {},
     "output_type": "execute_result"
    }
   ],
   "source": [
    "# Find the relative image url\n",
    "img_url_rel = img_soup.find('img', class_='fancybox-image').get('src')\n",
    "img_url_rel"
   ]
  },
  {
   "cell_type": "code",
   "execution_count": 13,
   "metadata": {
    "pycharm": {
     "name": "#%%\n"
    }
   },
   "outputs": [
    {
     "data": {
      "text/plain": [
       "'https://spaceimages-mars.com/image/featured/mars3.jpg'"
      ]
     },
     "execution_count": 13,
     "metadata": {},
     "output_type": "execute_result"
    }
   ],
   "source": [
    "# Use the base URL to create an absolute URL\n",
    "img_url = f'https://spaceimages-mars.com/{img_url_rel}'\n",
    "img_url"
   ]
  },
  {
   "cell_type": "markdown",
   "metadata": {},
   "source": [
    "### Mars Facts"
   ]
  },
  {
   "cell_type": "code",
   "execution_count": 15,
   "metadata": {
    "pycharm": {
     "name": "#%%\n"
    }
   },
   "outputs": [
    {
     "data": {
      "text/html": [
       "<div>\n",
       "<style scoped>\n",
       "    .dataframe tbody tr th:only-of-type {\n",
       "        vertical-align: middle;\n",
       "    }\n",
       "\n",
       "    .dataframe tbody tr th {\n",
       "        vertical-align: top;\n",
       "    }\n",
       "\n",
       "    .dataframe thead th {\n",
       "        text-align: right;\n",
       "    }\n",
       "</style>\n",
       "<table border=\"1\" class=\"dataframe\">\n",
       "  <thead>\n",
       "    <tr style=\"text-align: right;\">\n",
       "      <th></th>\n",
       "      <th>Mars</th>\n",
       "      <th>Earth</th>\n",
       "    </tr>\n",
       "    <tr>\n",
       "      <th>description</th>\n",
       "      <th></th>\n",
       "      <th></th>\n",
       "    </tr>\n",
       "  </thead>\n",
       "  <tbody>\n",
       "    <tr>\n",
       "      <th>Mars - Earth Comparison</th>\n",
       "      <td>Mars</td>\n",
       "      <td>Earth</td>\n",
       "    </tr>\n",
       "    <tr>\n",
       "      <th>Diameter:</th>\n",
       "      <td>6,779 km</td>\n",
       "      <td>12,742 km</td>\n",
       "    </tr>\n",
       "    <tr>\n",
       "      <th>Mass:</th>\n",
       "      <td>6.39 × 10^23 kg</td>\n",
       "      <td>5.97 × 10^24 kg</td>\n",
       "    </tr>\n",
       "    <tr>\n",
       "      <th>Moons:</th>\n",
       "      <td>2</td>\n",
       "      <td>1</td>\n",
       "    </tr>\n",
       "    <tr>\n",
       "      <th>Distance from Sun:</th>\n",
       "      <td>227,943,824 km</td>\n",
       "      <td>149,598,262 km</td>\n",
       "    </tr>\n",
       "    <tr>\n",
       "      <th>Length of Year:</th>\n",
       "      <td>687 Earth days</td>\n",
       "      <td>365.24 days</td>\n",
       "    </tr>\n",
       "    <tr>\n",
       "      <th>Temperature:</th>\n",
       "      <td>-87 to -5 °C</td>\n",
       "      <td>-88 to 58°C</td>\n",
       "    </tr>\n",
       "  </tbody>\n",
       "</table>\n",
       "</div>"
      ],
      "text/plain": [
       "                                    Mars            Earth\n",
       "description                                              \n",
       "Mars - Earth Comparison             Mars            Earth\n",
       "Diameter:                       6,779 km        12,742 km\n",
       "Mass:                    6.39 × 10^23 kg  5.97 × 10^24 kg\n",
       "Moons:                                 2                1\n",
       "Distance from Sun:        227,943,824 km   149,598,262 km\n",
       "Length of Year:           687 Earth days      365.24 days\n",
       "Temperature:                -87 to -5 °C      -88 to 58°C"
      ]
     },
     "execution_count": 15,
     "metadata": {},
     "output_type": "execute_result"
    }
   ],
   "source": [
    "df = pd.read_html('https://galaxyfacts-mars.com')[0]\n",
    "df.columns=['description', 'Mars', 'Earth']\n",
    "df.set_index('description', inplace=True)\n",
    "df"
   ]
  },
  {
   "cell_type": "markdown",
   "source": [
    "## D1: Scrape High-Resolution Mars’ Hemisphere Images and Titles"
   ],
   "metadata": {
    "collapsed": false
   }
  },
  {
   "cell_type": "markdown",
   "source": [
    "### Hemispheres"
   ],
   "metadata": {
    "collapsed": false
   }
  },
  {
   "cell_type": "code",
   "execution_count": 8,
   "outputs": [
    {
     "data": {
      "text/plain": "<html lang=\"en\"><head>\n<meta content=\"text/html; charset=utf-8\" http-equiv=\"Content-Type\"/>\n<link href=\"css/jquery-ui.css\" rel=\"stylesheet\" type=\"text/css\"/>\n<title>Astropedia Search Results | GUSS Astrogeology Science Center</title>\n<meta content=\"GUSS Astrogeology Science Center Astropedia search results.\" name=\"description\"/>\n<meta content=\"GUSS,Astrogeology Science Center,Cartography,Geology,Space,Geological Survey,Mapping\" name=\"keywords\"/>\n<meta content=\"IE=edge\" http-equiv=\"X-UA-Compatible\"/>\n<meta content=\"width=device-width, initial-scale=1, maximum-scale=1\" name=\"viewport\"/>\n<link href=\"css/main.css\" media=\"screen\" rel=\"stylesheet\"/>\n<link href=\"css/print.css\" media=\"print\" rel=\"stylesheet\"/>\n<link href=\"#\" rel=\"icon\" type=\"image/x-ico\"/>\n</head>\n<body id=\"results\">\n<header>\n<a href=\"#\" style=\"float:right;margin-top:10px;\" target=\"_blank\">\n<img alt=\"USGS: Science for a Changing World\" class=\"logo\" height=\"60\" src=\"images/usgs_logo_main_2x.png\"/>\n</a>\n<a href=\"#\" style=\"float:right;margin-top:5px;margin-right:20px;\" target=\"_blank\">\n<img alt=\"NASA\" class=\"logo\" height=\"65\" src=\"images/nasa-logo-web-med.png\"/>\n</a>\n</header>\n<div class=\"wrapper\">\n<div class=\"container\">\n<div class=\"widget block bar\">\n<a href=\"https://astrogeology.usgs.gov/search\" style=\"float:right;text-decoration:none;\">\n<img alt=\"Astropedia\" src=\"images/astropedia-logo-main.png\" style=\"width:200px;border:none;float:right;\"/>\n<div style=\"clear:both;font-size:.8em;float:right;color:#888;\">Lunar and Planetary Cartographic Catalog</div>\n</a>\n<div style=\"float:left;height:60px;\">\n</div>\n</div>\n<div class=\"full-content\">\n<section class=\"block\" id=\"results-accordian\">\n<div class=\"result-list\" data-section=\"product\" id=\"product-section\">\n<div class=\"accordian\">\n<h2>Products</h2>\n<span class=\"count\">4 Results</span>\n<span class=\"collapse\">Collapse</span>\n</div>\n<div class=\"collapsible results\">\n<div class=\"item\">\n<a class=\"itemLink product-item\" href=\"cerberus.html\"><img alt=\"Cerberus Hemisphere Enhanced thumbnail\" class=\"thumb\" src=\"images/39d3266553462198bd2fbc4d18fbed17_cerberus_enhanced.tif_thumb.png\"/></a>\n<div class=\"description\">\n<a class=\"itemLink product-item\" href=\"cerberus.html\">\n<h3>Cerberus Hemisphere Enhanced</h3>\n</a>\n<span class=\"subtitle\" style=\"float:left\">image/tiff 21 MB</span><span class=\"pubDate\" style=\"float:right\"></span><br/>\n<p>Mosaic of the Cerberus hemisphere of Mars projected into point perspective, a view similar to that which one would see from a spacecraft. This mosaic is composed of 104 Viking Orbiter images acquired…</p>\n</div>\n<!-- end description -->\n</div>\n<div class=\"item\">\n<a class=\"itemLink product-item\" href=\"schiaparelli.html\"><img alt=\"Schiaparelli Hemisphere Enhanced thumbnail\" class=\"thumb\" src=\"images/08eac6e22c07fb1fe72223a79252de20_schiaparelli_enhanced.tif_thumb.png\"/></a>\n<div class=\"description\">\n<a class=\"itemLink product-item\" href=\"schiaparelli.html\">\n<h3>Schiaparelli Hemisphere Enhanced</h3>\n</a>\n<span class=\"subtitle\" style=\"float:left\">image/tiff 35 MB</span><span class=\"pubDate\" style=\"float:right\"></span><br/>\n<p>Mosaic of the Schiaparelli hemisphere of Mars projected into point perspective, a view similar to that which one would see from a spacecraft. The images were acquired in 1980 during early northern…</p>\n</div>\n<!-- end description -->\n</div>\n<div class=\"item\">\n<a class=\"itemLink product-item\" href=\"syrtis.html\"><img alt=\"Syrtis Major Hemisphere Enhanced thumbnail\" class=\"thumb\" src=\"images/55a0a1e2796313fdeafb17c35925e8ac_syrtis_major_enhanced.tif_thumb.png\"/></a>\n<div class=\"description\">\n<a class=\"itemLink product-item\" href=\"syrtis.html\">\n<h3>Syrtis Major Hemisphere Enhanced</h3>\n</a>\n<span class=\"subtitle\" style=\"float:left\">image/tiff 25 MB</span><span class=\"pubDate\" style=\"float:right\"></span><br/>\n<p>Mosaic of the Syrtis Major hemisphere of Mars projected into point perspective, a view similar to that which one would see from a spacecraft. This mosaic is composed of about 100 red and violet…</p>\n</div>\n<!-- end description -->\n</div>\n<div class=\"item\">\n<a class=\"itemLink product-item\" href=\"valles.html\"><img alt=\"Valles Marineris Hemisphere Enhanced thumbnail\" class=\"thumb\" src=\"images/4e59980c1c57f89c680c0e1ccabbeff1_valles_marineris_enhanced.tif_thumb.png\"/></a>\n<div class=\"description\">\n<a class=\"itemLink product-item\" href=\"valles.html\">\n<h3>Valles Marineris Hemisphere Enhanced</h3>\n</a>\n<span class=\"subtitle\" style=\"float:left\">image/tiff 27 MB</span><span class=\"pubDate\" style=\"float:right\"></span><br/>\n<p>Mosaic of the Valles Marineris hemisphere of Mars projected into point perspective, a view similar to that which one would see from a spacecraft. The distance is 2500 kilometers from the surface of…</p>\n</div>\n<!-- end description -->\n</div>\n</div>\n<!-- end this-section -->\n</div>\n</section>\n</div>\n<div class=\"navigation clear\" style=\"display: none;\">\n<a class=\"itemLink product-item\" href=\"#\" onclick=\"showMain()\">\n<h3>Back</h3>\n</a>\n</div>\n</div>\n<footer>\n<div class=\"left\">\n<a href=\"#\">Search</a> |\n               <a href=\"#\">About</a> |\n               <a href=\"#\">Contact</a>\n</div>\n<div class=\"right\">\n<a href=\"#\">GUSS Science Center</a>\n</div>\n</footer>\n</div>\n<div class=\"page-background\" style=\"\n         background:url('./images/mars.jpg');\n         filter:progid:DXImageTransform.Microsoft.AlphaImageLoader(\n         src='./images/mars.jpg', sizingMethod='scale');\n         \"></div>\n<script type=\"text/javascript\">\n         var baseUrl = \"\";\n\n\n\n      </script>\n<script src=\"js/jquery.min.js\" type=\"text/javascript\"></script>\n<script src=\"js/jquery-ui.min.js\" type=\"text/javascript\"></script>\n<script src=\"js/general.js\" type=\"text/javascript\"></script>\n</body></html>"
     },
     "execution_count": 8,
     "metadata": {},
     "output_type": "execute_result"
    }
   ],
   "source": [
    "# 1. Use browser to visit the URL\n",
    "url = 'https://marshemispheres.com/'\n",
    "\n",
    "browser.visit(url)\n",
    "# Parse the resulting html with soup\n",
    "html = browser.html\n",
    "img_soup = soup(html, 'html.parser')\n",
    "img_soup"
   ],
   "metadata": {
    "collapsed": false,
    "pycharm": {
     "name": "#%%\n"
    }
   }
  },
  {
   "cell_type": "code",
   "execution_count": 16,
   "outputs": [
    {
     "data": {
      "text/plain": "[{'img_url': 'https://marshemispheres.com/images/full.jpg',\n  'title': 'Cerberus Hemisphere Enhanced'},\n {'img_url': 'https://marshemispheres.com/images/schiaparelli_enhanced-full.jpg',\n  'title': 'Schiaparelli Hemisphere Enhanced'},\n {'img_url': 'https://marshemispheres.com/images/syrtis_major_enhanced-full.jpg',\n  'title': 'Syrtis Major Hemisphere Enhanced'},\n {'img_url': 'https://marshemispheres.com/images/valles_marineris_enhanced-full.jpg',\n  'title': 'Valles Marineris Hemisphere Enhanced'}]"
     },
     "execution_count": 16,
     "metadata": {},
     "output_type": "execute_result"
    }
   ],
   "source": [
    "# 2. Create a list to hold the images and titles.\n",
    "hemisphere_image_urls = []\n",
    "\n",
    "# 3. Write code to retrieve the image urls and titles for each hemisphere.\n",
    "\n",
    "# Determine number of results\n",
    "number_results = img_soup.find('span', class_='count').get_text()\n",
    "results_count_list = re.findall(r'\\d+', number_results)\n",
    "results_count = int(results_count_list[0])\n",
    "results_count\n",
    "\n",
    "# Loop through results\n",
    "for i in range(results_count):\n",
    "    hemisphere_results = {}\n",
    "    hemispheres = {}\n",
    "    browser.find_by_css('a.product-item h3')[i].click()\n",
    "    element = browser.find_by_text('Sample').first\n",
    "    img_url = element['href']\n",
    "    title = browser.find_by_css(\"h2.title\").text\n",
    "    hemispheres[\"img_url\"] = img_url\n",
    "    hemispheres[\"title\"] = title\n",
    "    hemisphere_image_urls.append(hemispheres)\n",
    "    browser.back()\n"
   ],
   "metadata": {
    "collapsed": false,
    "pycharm": {
     "name": "#%%\n"
    }
   }
  },
  {
   "cell_type": "code",
   "execution_count": 17,
   "outputs": [
    {
     "data": {
      "text/plain": "[{'img_url': 'https://marshemispheres.com/images/full.jpg',\n  'title': 'Cerberus Hemisphere Enhanced'},\n {'img_url': 'https://marshemispheres.com/images/schiaparelli_enhanced-full.jpg',\n  'title': 'Schiaparelli Hemisphere Enhanced'},\n {'img_url': 'https://marshemispheres.com/images/syrtis_major_enhanced-full.jpg',\n  'title': 'Syrtis Major Hemisphere Enhanced'},\n {'img_url': 'https://marshemispheres.com/images/valles_marineris_enhanced-full.jpg',\n  'title': 'Valles Marineris Hemisphere Enhanced'}]"
     },
     "execution_count": 17,
     "metadata": {},
     "output_type": "execute_result"
    }
   ],
   "source": [
    "# 4. Print the list that holds the dictionary of each image url and title.\n",
    "hemisphere_image_urls"
   ],
   "metadata": {
    "collapsed": false,
    "pycharm": {
     "name": "#%%\n"
    }
   }
  },
  {
   "cell_type": "code",
   "execution_count": 18,
   "metadata": {
    "pycharm": {
     "name": "#%%\n"
    }
   },
   "outputs": [],
   "source": [
    "# 5. Quit the browser\n",
    "browser.quit()"
   ]
  },
  {
   "cell_type": "code",
   "execution_count": null,
   "outputs": [],
   "source": [],
   "metadata": {
    "collapsed": false,
    "pycharm": {
     "name": "#%%\n"
    }
   }
  }
 ],
 "metadata": {
  "kernelspec": {
   "display_name": "PythonData",
   "language": "python",
   "name": "pythondata"
  },
  "language_info": {
   "codemirror_mode": {
    "name": "ipython",
    "version": 3
   },
   "file_extension": ".py",
   "mimetype": "text/x-python",
   "name": "python",
   "nbconvert_exporter": "python",
   "pygments_lexer": "ipython3",
   "version": "3.9.7"
  }
 },
 "nbformat": 4,
 "nbformat_minor": 1
}